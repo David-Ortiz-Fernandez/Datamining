{
 "cells": [
  {
   "cell_type": "code",
   "execution_count": null,
   "metadata": {
    "collapsed": false,
    "deletable": true,
    "editable": true
   },
   "outputs": [],
   "source": [
    "# Andrés Ortiz \n",
    "# David Ortiz.\n",
    "import pandas as pd\n",
    "import numpy as np\n",
    "from sklearn import metrics\n",
    "import matplotlib.pyplot as plt\n",
    "from sklearn.preprocessing import LabelEncoder\n",
    "from sklearn.model_selection import train_test_split\n",
    "from sklearn.model_selection import cross_val_score\n",
    "from sklearn.model_selection import cross_val_predict\n",
    "from sklearn.neighbors import KNeighborsClassifier\n",
    "from sklearn.ensemble import RandomForestClassifier\n",
    "from sklearn.linear_model import LogisticRegression\n",
    "from sklearn.svm import SVC\n",
    "from sklearn.model_selection import cross_val_score\n",
    "from sklearn.metrics import accuracy_score\n",
    "from sklearn import cross_validation\n",
    "from sklearn.ensemble import RandomForestClassifier , AdaBoostClassifier\n",
    "from sklearn.naive_bayes import GaussianNB\n",
    "from sklearn.tree import DecisionTreeClassifier\n",
    "from sklearn.ensemble import GradientBoostingClassifier\n",
    "from sklearn.naive_bayes import GaussianNB\n",
    "from sklearn.discriminant_analysis import QuadraticDiscriminantAnalysis\n",
    "from sklearn.neural_network import MLPClassifier\n",
    "from sklearn.gaussian_process import GaussianProcessClassifier\n",
    "from sklearn.gaussian_process.kernels import RBF\n",
    "%matplotlib inline\n"
   ]
  },
  {
   "cell_type": "code",
   "execution_count": null,
   "metadata": {
    "collapsed": false,
    "deletable": true,
    "editable": true
   },
   "outputs": [],
   "source": [
    "titanic_train = pd.read_csv('train.csv') # For machine learning models.\n",
    "titanic_test = pd.read_csv('test.csv') # To see how the model performs.\n",
    "\n",
    "\n",
    "titanic_test"
   ]
  },
  {
   "cell_type": "code",
   "execution_count": null,
   "metadata": {
    "collapsed": false,
    "deletable": true,
    "editable": true
   },
   "outputs": [],
   "source": [
    "print ( titanic_train)\n",
    "# Survival survival\n",
    "# pclass ticket class -1st Upper - 2 Middle - 3 Lower\n",
    "# sex Sex\n",
    "# Age Age in years\n",
    "# sibsp # of siblings - Sibling ( brother , sister , stepbrother , stepsister) - Spouse (wife,husband)\n",
    "# parch # of parents - Parent ( mother ,father) - Child ( gaughter , son ) - \n",
    "# ticket Ticket number\n",
    "# fare Passenger fare\n",
    "# cabin Cabin number\n",
    "# embarked Port of Embarkation"
   ]
  },
  {
   "cell_type": "code",
   "execution_count": null,
   "metadata": {
    "collapsed": false,
    "deletable": true,
    "editable": true
   },
   "outputs": [],
   "source": [
    "titanic_train['Survived'].mean() \n",
    "# The mean of survivors "
   ]
  },
  {
   "cell_type": "code",
   "execution_count": null,
   "metadata": {
    "collapsed": false,
    "deletable": true,
    "editable": true
   },
   "outputs": [],
   "source": [
    "titanic_train.groupby('Pclass').mean() \n",
    "#People who belong to an upper class survived more than others.\n",
    "# People who belong to the lower class is youger than others.\n",
    "# Then Pclass is an important feature to determinate the results.\n",
    "\n"
   ]
  },
  {
   "cell_type": "code",
   "execution_count": null,
   "metadata": {
    "collapsed": false,
    "deletable": true,
    "editable": true
   },
   "outputs": [],
   "source": [
    "titanic_train.groupby('Sex').mean()\n",
    "# In general females survived much more than males."
   ]
  },
  {
   "cell_type": "code",
   "execution_count": null,
   "metadata": {
    "collapsed": false,
    "deletable": true,
    "editable": true,
    "scrolled": true
   },
   "outputs": [],
   "source": [
    "sex_pclass_groupby = titanic_train.groupby(['Sex','Pclass']).mean()\n",
    "# If we group them by Sex and Pclass we can see than most females\n",
    "# of upper and mid class survived.\n",
    "\n",
    "del sex_pclass_groupby['PassengerId']\n",
    "del sex_pclass_groupby['Age']\n",
    "del sex_pclass_groupby['SibSp']\n",
    "del sex_pclass_groupby['Parch']\n",
    "del sex_pclass_groupby['Fare']\n",
    "\n",
    "sex_pclass_groupby.plot.bar()\n",
    "\n",
    "# Sex is a determinat feature."
   ]
  },
  {
   "cell_type": "code",
   "execution_count": null,
   "metadata": {
    "collapsed": false,
    "deletable": true,
    "editable": true
   },
   "outputs": [],
   "source": [
    "parch_group = titanic_train.groupby(['Parch','Pclass','Sex']).mean()\n",
    "parch_group"
   ]
  },
  {
   "cell_type": "code",
   "execution_count": null,
   "metadata": {
    "collapsed": false,
    "deletable": true,
    "editable": true
   },
   "outputs": [],
   "source": [
    "age_group = titanic_train.groupby(['Age']).mean()\n",
    "age_group"
   ]
  },
  {
   "cell_type": "code",
   "execution_count": null,
   "metadata": {
    "collapsed": false,
    "deletable": true,
    "editable": true
   },
   "outputs": [],
   "source": [
    "# Let's extract the title of the names to avoid the name colums from the analysis.\n",
    "# We will use a regular expression to do it.\n",
    "titanic_train['Title'] = titanic_train[\"Name\"].str.extract(' ([A-Za-z]+)\\.',expand=False)   \n",
    "titanic_test['Title'] = titanic_test[\"Name\"].str.extract(' ([A-Za-z]+)\\.',expand=False)\n",
    "\n",
    "# Convert to rare type the strange values.\n",
    "titanic_train['Title'] = titanic_train['Title'].replace(['Lady','Countess','Capt','Col',\\\n",
    "                                                         'Don','Dr','Major','Rev','Sir','Jonkheer','Dona'],'Rare')\n",
    "titanic_test['Title'] = titanic_test['Title'].replace(['Lady','Countess','Capt','Col',\\\n",
    "                                                         'Don','Dr','Major','Rev','Sir','Jonkheer','Dona'],'Rare')\n",
    "\n",
    "# Replace values that mean the same thing.\n",
    "titanic_train['Title'] = titanic_train['Title'].replace('Mlle','Miss')\n",
    "titanic_train['Title'] = titanic_train['Title'].replace('Ms','Miss')\n",
    "titanic_train['Title'] = titanic_train['Title'].replace('Mme','Mrs')\n",
    "\n",
    "titanic_test['Title'] = titanic_test['Title'].replace('Mlle','Miss')\n",
    "titanic_test['Title'] = titanic_test['Title'].replace('Ms','Miss')\n",
    "titanic_test['Title'] = titanic_test['Title'].replace('Mme','Mrs')\n",
    "\n",
    "\n",
    "\n",
    "\n",
    "\n",
    "\n",
    "# Now we have to convert some string values to int values\n",
    "encoding = LabelEncoder()\n",
    "encoding2 = LabelEncoder()\n",
    "encoding3 = LabelEncoder()\n",
    "encoding4 = LabelEncoder()\n",
    "encoding5 = LabelEncoder()\n",
    "encoding6 = LabelEncoder()"
   ]
  },
  {
   "cell_type": "code",
   "execution_count": null,
   "metadata": {
    "collapsed": false,
    "deletable": true,
    "editable": true
   },
   "outputs": [],
   "source": [
    "encoding.fit(titanic_train['Sex'].values)\n",
    "encoding2.fit(titanic_test['Sex'].values)\n",
    "encoding3.fit(titanic_test['Embarked'].values)\n",
    "Embarked2 = pd.factorize(titanic_train['Embarked'])\n",
    "Cabin1 = pd.factorize(titanic_train['Cabin'])\n",
    "Cabin2 = pd.factorize(titanic_test['Cabin'])\n",
    "titanic_train['Embarked']=Embarked2[0]\n",
    "titanic_train['Cabin']=Cabin1[0]\n",
    "titanic_test['Cabin']=Cabin2[0]\n",
    "encoding5.fit(titanic_train['Title'].values)\n",
    "encoding6.fit(titanic_test['Title'].values)"
   ]
  },
  {
   "cell_type": "code",
   "execution_count": null,
   "metadata": {
    "collapsed": false,
    "deletable": true,
    "editable": true
   },
   "outputs": [],
   "source": [
    "Sex = encoding.transform(titanic_train['Sex'].values)\n",
    "Sex2 = encoding2.transform(titanic_test['Sex'].values)\n",
    "Embarked = encoding3.transform(titanic_test['Embarked'].values)\n",
    "Title1 = encoding5.transform(titanic_train['Title'].values)\n",
    "Title2 = encoding6.transform(titanic_test['Title'].values)\n"
   ]
  },
  {
   "cell_type": "code",
   "execution_count": null,
   "metadata": {
    "collapsed": false,
    "deletable": true,
    "editable": true
   },
   "outputs": [],
   "source": [
    "titanic_train['Sex'] = Sex\n",
    "titanic_test['Sex'] = Sex2\n",
    "titanic_test['Embarked'] = Embarked\n",
    "titanic_train['Title'] = Title1\n",
    "titanic_test['Title'] = Title2"
   ]
  },
  {
   "cell_type": "code",
   "execution_count": null,
   "metadata": {
    "collapsed": false,
    "deletable": true,
    "editable": true
   },
   "outputs": [],
   "source": []
  },
  {
   "cell_type": "code",
   "execution_count": null,
   "metadata": {
    "collapsed": false,
    "deletable": true,
    "editable": true,
    "scrolled": false
   },
   "outputs": [],
   "source": [
    "titanic_train = titanic_train.fillna(titanic_train.mean())\n",
    "titanic_test = titanic_test.fillna(titanic_test.mean())\n",
    "\n",
    "features = titanic_train[[ 'Title',\"Sex\",\"Pclass\",\"Age\",\"SibSp\",'Fare','Parch','Embarked','Cabin']]\n",
    "X = features\n",
    "Y = titanic_train['Survived']\n",
    "\n",
    "\n",
    "#X_train,X_test,y_train,y_test=train_test_split(X,Y,test_size=0.4,random_state=42)\n",
    "\n",
    "#X_test\n",
    "\n",
    "X_test = titanic_test[['Title',\"Sex\",\"Pclass\",\"Age\",'SibSp','Parch','Fare','Embarked','Cabin']]\n",
    "\n",
    "#titanic_test.describe()\n",
    "\n",
    "features"
   ]
  },
  {
   "cell_type": "code",
   "execution_count": null,
   "metadata": {
    "collapsed": false,
    "deletable": true,
    "editable": true
   },
   "outputs": [],
   "source": [
    "svc = SVC()\n",
    "svc.fit(X,Y)\n",
    "Y_pred = svc.predict(X_test)\n",
    "score= cross_val_score(svc,X,Y,cv=4,n_jobs=1)\n",
    "score.mean()"
   ]
  },
  {
   "cell_type": "code",
   "execution_count": null,
   "metadata": {
    "collapsed": false,
    "deletable": true,
    "editable": true
   },
   "outputs": [],
   "source": [
    "rnd_forest = RandomForestClassifier(n_estimators=200,n_jobs=2)\n",
    "rnd_forest.fit(X,Y)\n",
    "Y_pred_1 = rnd_forest.predict(X_test)\n",
    "score= cross_val_score(rnd_forest,X,Y,cv=4,n_jobs=1)\n",
    "score.mean()\n"
   ]
  },
  {
   "cell_type": "code",
   "execution_count": null,
   "metadata": {
    "collapsed": false,
    "deletable": true,
    "editable": true
   },
   "outputs": [],
   "source": [
    "logreg= LogisticRegression()\n",
    "logreg.fit(X,Y)\n",
    "Y_pred_2=logreg.predict(X_test)\n",
    "score= cross_val_score(logreg,X,Y,cv=4,n_jobs=2)\n",
    "score.mean()\n"
   ]
  },
  {
   "cell_type": "code",
   "execution_count": null,
   "metadata": {
    "collapsed": false,
    "deletable": true,
    "editable": true
   },
   "outputs": [],
   "source": [
    "\n",
    "#Gaussian Naive Bayes\n",
    "\n",
    "gaussian = GaussianNB()\n",
    "\n",
    "gaussian.fit(X, Y)\n",
    "\n",
    "Y_pred = gaussian.predict(X_test)\n",
    "\n",
    "#gaussian.score(X_train, Y_train)\n",
    "\n",
    "score= cross_val_score(gaussian,X,Y,cv=4,n_jobs=2)\n",
    "score.mean()"
   ]
  },
  {
   "cell_type": "code",
   "execution_count": null,
   "metadata": {
    "collapsed": false,
    "deletable": true,
    "editable": true
   },
   "outputs": [],
   "source": []
  },
  {
   "cell_type": "code",
   "execution_count": null,
   "metadata": {
    "collapsed": false,
    "deletable": true,
    "editable": true
   },
   "outputs": [],
   "source": [
    "# Testing a few classifiers.\n",
    "\n",
    "classifiers = {\n",
    "    \"Nearest Neighbors\": KNeighborsClassifier(3),\n",
    "    \"Most Naive SVM\": SVC(),\n",
    "    \"Linear SVM\" : SVC(kernel=\"linear\",C=0.025),\n",
    "    \"RBF SVM\": SVC(gamma=2,C=1),\n",
    "    \"Gaussian Process\" : GaussianProcessClassifier(1.0 * RBF(1.0),warm_start=True),\n",
    "    \"Decision Tree\" : DecisionTreeClassifier(max_depth=5),\n",
    "    \"Random Forest\" : RandomForestClassifier(n_estimators=200,n_jobs=2),\n",
    "    \"Neural Net\": MLPClassifier(alpha=1),\n",
    "    \"AdaBoost\":AdaBoostClassifier(),\n",
    "    \"Naive Bayes\": GaussianNB(),\n",
    "    \"QDA\": QuadraticDiscriminantAnalysis(),\n",
    "}\n",
    "\n",
    "trained_classifiers = {}\n",
    "for key in classifiers.keys():\n",
    "    classifier = classifiers[key]\n",
    "    trained_classifiers[key] = classifier.fit(X,Y)\n",
    "    "
   ]
  },
  {
   "cell_type": "code",
   "execution_count": null,
   "metadata": {
    "collapsed": false
   },
   "outputs": [],
   "source": [
    "def get_accuracy(trained_classifier,X,Y):\n",
    "    predicted_vals = trained_classifier.predict(X_test)\n",
    "    result = cross_val_score(trained_classifier,X,Y,cv=4,n_jobs=2)\n",
    "    return result.mean()\n",
    "\n",
    "\n",
    "for classifier_name in trained_classifiers.keys():\n",
    "    classifier = trained_classifiers[classifier_name]\n",
    "    print(classifier_name,get_accuracy(classifier,X,Y))"
   ]
  },
  {
   "cell_type": "code",
   "execution_count": null,
   "metadata": {
    "collapsed": false
   },
   "outputs": [],
   "source": [
    "# 0.78469 score on kaggle (all features except passengerId ) \n",
    "clf_res =RandomForestClassifier(n_estimators=600,n_jobs=2,max_features='sqrt')\n",
    "clf_res.fit(X,Y)\n",
    "\n",
    "Y_pred_res = clf_res.predict(X_test)\n",
    "\n",
    "score= cross_val_score(clf_res,X,Y,cv=4,n_jobs=2)\n",
    "\n",
    "print(score.mean(),Y_pred_res.mean())\n",
    "\n"
   ]
  },
  {
   "cell_type": "code",
   "execution_count": null,
   "metadata": {
    "collapsed": false
   },
   "outputs": [],
   "source": [
    "submission = pd.DataFrame({\n",
    "        \"PassengerId\": titanic_test[\"PassengerId\"],\n",
    "        \"Survived\": Y_pred_res\n",
    "    })\n",
    "submission.to_csv('titanic.csv', index=False)"
   ]
  },
  {
   "cell_type": "code",
   "execution_count": null,
   "metadata": {
    "collapsed": false
   },
   "outputs": [],
   "source": []
  },
  {
   "cell_type": "code",
   "execution_count": null,
   "metadata": {
    "collapsed": false
   },
   "outputs": [],
   "source": [
    "from sklearn.model_selection import StratifiedKFold\n",
    "from sklearn.grid_search import GridSearchCV\n",
    "from sklearn.datasets import make_classification\n",
    "\n",
    "\n",
    "\n",
    "\n",
    "rfc = RandomForestClassifier(n_jobs=-1,max_features= 'sqrt' ,n_estimators=50, oob_score = True) \n",
    "\n",
    "param_grid = { \n",
    "    'n_estimators': [200, 700],\n",
    "    'max_features': ['auto', 'sqrt', 'log2']\n",
    "}\n",
    "\n",
    "CV_rfc = GridSearchCV(estimator=rfc, param_grid=param_grid, cv= 5)\n",
    "CV_rfc.fit(X, Y)\n",
    "print (CV_rfc.best_params_)\n"
   ]
  },
  {
   "cell_type": "code",
   "execution_count": null,
   "metadata": {
    "collapsed": false
   },
   "outputs": [],
   "source": []
  },
  {
   "cell_type": "code",
   "execution_count": null,
   "metadata": {
    "collapsed": false
   },
   "outputs": [],
   "source": []
  },
  {
   "cell_type": "code",
   "execution_count": null,
   "metadata": {
    "collapsed": false
   },
   "outputs": [],
   "source": []
  },
  {
   "cell_type": "code",
   "execution_count": null,
   "metadata": {
    "collapsed": true
   },
   "outputs": [],
   "source": []
  },
  {
   "cell_type": "code",
   "execution_count": null,
   "metadata": {
    "collapsed": true
   },
   "outputs": [],
   "source": []
  }
 ],
 "metadata": {
  "kernelspec": {
   "display_name": "Python 3",
   "language": "python",
   "name": "python3"
  },
  "language_info": {
   "codemirror_mode": {
    "name": "ipython",
    "version": 3
   },
   "file_extension": ".py",
   "mimetype": "text/x-python",
   "name": "python",
   "nbconvert_exporter": "python",
   "pygments_lexer": "ipython3",
   "version": "3.6.0"
  }
 },
 "nbformat": 4,
 "nbformat_minor": 2
}
